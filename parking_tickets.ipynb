{
 "cells": [
  {
   "cell_type": "code",
   "execution_count": 1,
   "metadata": {
    "id": "keSLoMb5VSGv"
   },
   "outputs": [],
   "source": [
    "import os\n",
    "import sys \n",
    "\n",
    "os.environ[\"PYSPARK_PYTHON\"] = \"/opt/cloudera/parcels/Anaconda/bin/python\"\n",
    "os.environ[\"JAVA_HOME\"] = \"/usr/java/jdk1.8.0_232-cloudera/jre\"\n",
    "os.environ[\"SPARK_HOME\"] = \"/opt/cloudera/parcels/SPARK2-2.3.0.cloudera2-1.cdh5.13.3.p0.316101/lib/spark2/\"\n",
    "os.environ[\"PYLIB\"] = os.environ[\"SPARK_HOME\"] +\"/python/lib\"\n",
    "sys.path.insert(0, os.environ[\"PYLIB\"] +\"/py4j-0.10.6-src.zip\")\n",
    "sys.path.insert(0, os.environ[\"PYLIB\"] +\"/pyspark.zip\")"
   ]
  },
  {
   "cell_type": "code",
   "execution_count": 2,
   "metadata": {
    "id": "ZibQpsIKVjAd"
   },
   "outputs": [],
   "source": [
    "from pyspark.sql import SparkSession"
   ]
  },
  {
   "cell_type": "code",
   "execution_count": 3,
   "metadata": {
    "colab": {
     "base_uri": "https://localhost:8080/",
     "height": 219
    },
    "id": "B8RAkyUlVSG0",
    "outputId": "1a00eb12-44e6-496f-f2ee-b53bf68ca5d0"
   },
   "outputs": [
    {
     "data": {
      "text/html": [
       "\n",
       "            <div>\n",
       "                <p><b>SparkSession - hive</b></p>\n",
       "                \n",
       "        <div>\n",
       "            <p><b>SparkContext</b></p>\n",
       "\n",
       "            <p><a href=\"http://ip-10-0-0-41.ec2.internal:4040\">Spark UI</a></p>\n",
       "\n",
       "            <dl>\n",
       "              <dt>Version</dt>\n",
       "                <dd><code>v2.3.0.cloudera2</code></dd>\n",
       "              <dt>Master</dt>\n",
       "                <dd><code>local</code></dd>\n",
       "              <dt>AppName</dt>\n",
       "                <dd><code>demo</code></dd>\n",
       "            </dl>\n",
       "        </div>\n",
       "        \n",
       "            </div>\n",
       "        "
      ],
      "text/plain": [
       "<pyspark.sql.session.SparkSession at 0x7f79983a4690>"
      ]
     },
     "execution_count": 3,
     "metadata": {},
     "output_type": "execute_result"
    }
   ],
   "source": [
    "spark = SparkSession.builder.appName('demo').master(\"local\").getOrCreate()\n",
    "spark"
   ]
  },
  {
   "cell_type": "code",
   "execution_count": 4,
   "metadata": {
    "id": "H5hWQLuZVSG1"
   },
   "outputs": [],
   "source": [
    "s3path = 's3a://upgrad-data/Parking_Violation_Tickets.csv'\n",
    "tickets = spark.read.format(\"csv\").option(\"header\", \"true\").load(s3path)"
   ]
  },
  {
   "cell_type": "code",
   "execution_count": 8,
   "metadata": {
    "id": "s62S_h9YsuaU"
   },
   "outputs": [],
   "source": [
    "from pyspark.sql.functions import *"
   ]
  },
  {
   "cell_type": "code",
   "execution_count": 9,
   "metadata": {
    "id": "3GtarU70VSG0"
   },
   "outputs": [],
   "source": [
    "# load data\n",
    "tickets = spark.read.csv('/content/Parking_Violation_Tickets.csv', header=True, inferSchema=True)"
   ]
  },
  {
   "cell_type": "code",
   "execution_count": 10,
   "metadata": {
    "colab": {
     "base_uri": "https://localhost:8080/"
    },
    "id": "kzYATXQmVSG1",
    "outputId": "824ef5fa-7f8c-424f-caee-d940387b930c"
   },
   "outputs": [
    {
     "name": "stdout",
     "output_type": "stream",
     "text": [
      "+--------------+--------+------------------+----------+----------+--------------+-----------------+------------+--------------+------------+------------+------------+-----------------------+------------------+------------------+---------------+-----------+--------------+------------+--------------+-------------------+----------------+---------------------------------+------------+--------------------+-------------------+-------------------+-----------+------------+--------------------+--------------------------+--------------------+------------------+-------------+---------------------+------------+------------+--------------+-------------------+---------------------+---------------------------------+-----------------+------------------------+\n",
      "|Summons Number|Plate ID|Registration State|Plate Type|Issue Date|Violation Code|Vehicle Body Type|Vehicle Make|Issuing Agency|Street Code1|Street Code2|Street Code3|Vehicle Expiration Date|Violation Location|Violation Precinct|Issuer Precinct|Issuer Code|Issuer Command|Issuer Squad|Violation Time|Time First Observed|Violation County|Violation In Front Of Or Opposite|House Number|         Street Name|Intersecting Street|Date First Observed|Law Section|Sub Division|Violation Legal Code|Days Parking In Effect    |From Hours In Effect|To Hours In Effect|Vehicle Color|Unregistered Vehicle?|Vehicle Year|Meter Number|Feet From Curb|Violation Post Code|Violation Description|No Standing or Stopping Violation|Hydrant Violation|Double Parking Violation|\n",
      "+--------------+--------+------------------+----------+----------+--------------+-----------------+------------+--------------+------------+------------+------------+-----------------------+------------------+------------------+---------------+-----------+--------------+------------+--------------+-------------------+----------------+---------------------------------+------------+--------------------+-------------------+-------------------+-----------+------------+--------------------+--------------------------+--------------------+------------------+-------------+---------------------+------------+------------+--------------+-------------------+---------------------+---------------------------------+-----------------+------------------------+\n",
      "|    5092469481| GZH7067|                NY|       PAS|07/10/2016|             7|             SUBN|       TOYOT|             V|           0|           0|           0|                      0|              null|                 0|              0|          0|          null|        null|         0143A|               null|              BX|                             null|        null|ALLERTON AVE (W/B) @|         BARNES AVE|                  0|       1111|           D|                   T|                      null|                null|              null|           GY|                 null|        2001|        null|             0|               null| FAILURE TO STOP A...|                             null|             null|                    null|\n",
      "|    5092451658| GZH7067|                NY|       PAS|07/08/2016|             7|             SUBN|       TOYOT|             V|           0|           0|           0|                      0|              null|                 0|              0|          0|          null|        null|         0400P|               null|              BX|                             null|        null|ALLERTON AVE (W/B) @|         BARNES AVE|                  0|       1111|           D|                   T|                      null|                null|              null|           GY|                 null|        2001|        null|             0|               null| FAILURE TO STOP A...|                             null|             null|                    null|\n",
      "|    4006265037| FZX9232|                NY|       PAS|08/23/2016|             5|             SUBN|        FORD|             V|           0|           0|           0|                      0|              null|                 0|              0|          0|          null|        null|         0233P|               null|              BX|                             null|        null|SB WEBSTER AVE @ E 1|            94TH ST|                  0|       1111|           C|                   T|                      null|                null|              null|           BK|                 null|        2004|        null|             0|               null|   BUS LANE VIOLATION|                             null|             null|                    null|\n",
      "|    8478629828| 66623ME|                NY|       COM|06/14/2017|            47|             REFG|       MITSU|             T|       10610|       34330|       34350|               20180630|                14|                14|             14|     359594|          T102|           J|         1120A|               null|              NY|                                O|         330|             7th Ave|               null|                  0|        408|          l2|                null|                         Y|               0700A|             0700P|           WH|                 null|        2007|        null|             0|                 04| 47-Double PKG-Mid...|                             null|             null|                    null|\n",
      "|    7868300310| 37033JV|                NY|       COM|11/21/2016|            69|             DELV|       INTER|             T|       10510|       34310|       34330|               20170228|                13|                13|             13|     364832|          T102|           M|         0555P|               null|              NY|                                F|         799|             6th Ave|               null|                  0|        408|          h1|                null|                         Y|               0700A|             0700P|        WHITE|                 null|        2007|        null|             0|               31 6| 69-Failure to Dis...|                             null|             null|                    null|\n",
      "|    5096917368| FZD8593|                NY|       PAS|06/13/2017|             7|             SUBN|       ME/BE|             V|           0|           0|           0|                      0|              null|                 0|              0|          0|          null|        null|         0852P|               null|              QN|                             null|        null| NORTHERN BLVD (E/B)|    @ MARATHON PKWY|                  0|       1111|           D|                   T|                      null|                null|              null|           WH|                 null|        2012|        null|             0|               null| FAILURE TO STOP A...|                             null|             null|                    null|\n",
      "|    1413609545|  X20DCM|                NJ|       PAS|08/03/2016|            40|              SDN|       TOYOT|             P|       54070|       39430|       54930|                      0|                71|                71|             71|     960290|          0071|        0000|         0215A|               null|               K|                                F|         439|            KINGSTON|               null|                  0|        408|          C3|                null|                   BBBBBBB|                 ALL|               ALL|        WHITE|                    0|           0|           -|             1|               null|                 null|                             null|             null|                    null|\n",
      "|    4628525523|  326SF9|                MA|       PAS|12/21/2016|            36|               UT|         BMW|             V|           0|           0|           0|                      0|              null|                 0|              0|          0|          null|        null|         0758A|               null|              BX|                             null|        null|EB E GUN HILL RD @ B|          ARNES AVE|                  0|       1180|           B|                   T|                      null|                null|              null|         null|                 null|        2001|        null|             0|               null| PHTO SCHOOL ZN SP...|                             null|             null|                    null|\n",
      "|    4627113330| HCA5464|                NY|       OMS|11/21/2016|            36|             SUBN|       DODGE|             V|           0|           0|           0|                      0|              null|                 0|              0|          0|          null|        null|         1005A|               null|              QN|                             null|        null|NB BAISLEY BLVD @ 15|             5TH ST|                  0|       1180|           B|                   T|                      null|                null|              null|           BK|                 null|        2016|        null|             0|               null| PHTO SCHOOL ZN SP...|                             null|             null|                    null|\n",
      "|    4006478550| VAD7274|                VA|       PAS|10/05/2016|             5|               4D|         BMW|             V|           0|           0|           0|                      0|              null|                 0|              0|          0|          null|        null|         0845A|               null|              BX|                             null|        null|SB WEBSTER AVE @ E 2|            04TH ST|                  0|       1111|           C|                   T|                      null|                null|              null|          BLK|                 null|        2008|        null|             0|               null|   BUS LANE VIOLATION|                             null|             null|                    null|\n",
      "|    1407740258| 2513JMG|                NY|       COM|01/11/2017|            78|             DELV|       FRUEH|             P|           0|       40404|       40404|               20161130|               106|               106|            106|     960979|          0106|        0000|         0015A|               null|               Q|                             null|         126|          ST 115 AVE|               null|                  0|        408|          E2|                null|                   BBBBBBB|                 ALL|               ALL|        WHITE|                    0|        2015|           -|             0|               null|                 null|                             null|             null|                    null|\n",
      "|    8009901763| 13657MD|                NY|       COM|09/27/2016|            19|             DELV|       KENWO|             T|       10510|       34870|       34890|               20170331|                18|                18|             18|     357355|          T400|           A|         0707A|               null|              NY|                                O|        1365|             6th Ave|               null|                  0|        408|          c3|                null|                   YYYYYYY|                null|              null|           RD|                 null|        2013|        null|             0|               01 9| 19-No Stand (bus ...|                             null|             null|                    null|\n",
      "|    4625926610|N102911C|                NY|       OMT|10/27/2016|            36|              VAN|        FORD|             V|           0|           0|           0|                      0|              null|                 0|              0|          0|          null|        null|         1022A|               null|              QN|                             null|        null|EB HORACE HARDING EX|PRESSWAY @ PECK AVE|                  0|       1180|           B|                   T|                      null|                null|              null|           WH|                 null|        2008|        null|             0|               null| PHTO SCHOOL ZN SP...|                             null|             null|                    null|\n",
      "|    1416492320| FGR5997|                NY|       PAS|09/30/2016|            21|              SDN|       NISSA|             P|       53620|       74250|       74260|               20170303|                44|                44|             44|     905733|          0044|        0000|         1150A|               null|              BX|                                F|        1224|          NELSON AVE|               null|                  0|        408|          F1|                null|                   BYBBYBB|               1130A|             0100P|          TAN|                    0|           0|           -|             0|               null|                 null|                             null|             null|                    null|\n",
      "|    1413656420|T672371C|                NY|       PAS|02/04/2017|            40|             TAXI|       TOYOT|             P|       59630|       73470|       82230|               20170531|                73|                73|             73|     960758|          0073|        0000|         0525A|               null|               K|                                F|         279|         MCDOUGAL ST|               null|                  0|        408|          F1|                null|                   BBBBBBB|                 ALL|               ALL|          BLK|                    0|        2015|           -|             0|               null|                 null|                             null|             null|                    null|\n",
      "|    7959486440| GYF2052|                NY|       PAS|07/07/2016|            71|             4DSD|       VOLKS|             T|       70407|       17390|       48890|               20170527|               120|               120|            120|     356557|          T303|           E|         0645P|               null|               R|                                F|         143|     N St Austins Pl|               null|                  0|        408|          j6|                null|                      null|                null|              null|           GY|                 null|        2012|        null|             0|               C-PM| 71-Insp. Sticker ...|                             null|             null|                    null|\n",
      "|    5093620865| AD80228|                AZ|       PAS|09/24/2016|             7|               TK|        FORD|             V|           0|           0|           0|                      0|              null|                 0|              0|          0|          null|        null|         1122A|               null|              QN|                             null|        null|SO CONDUIT AVE (E/B)|          @ 89TH ST|                  0|       1111|           D|                   T|                      null|                null|              null|         null|                 null|        2009|        null|             0|               null| FAILURE TO STOP A...|                             null|             null|                    null|\n",
      "|    8480309064| 51771JW|                NY|       COM|01/26/2017|            64|              VAN|       INTER|             T|       17850|       10210|       10110|               88888888|                17|                17|             17|     363557|          T102|           L|         0256P|               null|              NY|                                F|         204|           E 43rd St|               null|                  0|        408|          C8|                null|                   YYYYYYY|                null|              null|        BROWN|                 null|        2007|        null|             0|                 06| 64-No STD Ex Con/...|                             null|             null|                    null|\n",
      "|    1416638830|  GLP367|                NY|       PAS|04/30/2017|            20|             SUBN|       DODGE|             P|       17650|       10110|       10010|               20180304|                17|                17|             17|     940179|          0017|        0000|         1232A|               null|              NY|                                O|         330|             E 33 ST|               null|                  0|        408|          E2|                null|                   YYYYYYY|               1200A|             1159P|          BLK|                    0|        2009|           -|             0|               null|                 null|                             null|             null|                    null|\n",
      "|    4630524241|  HJBP29|                FL|       PAS|02/03/2017|            36|               4D|         BMW|             V|           0|           0|           0|                      0|              null|                 0|              0|          0|          null|        null|         1034A|               null|              BK|                             null|        null|WB LINDEN BLVD @ SCH|           ENCK AVE|                  0|       1180|           B|                   T|                      null|                null|              null|          SIL|                 null|        2009|        null|             0|               null| PHTO SCHOOL ZN SP...|                             null|             null|                    null|\n",
      "+--------------+--------+------------------+----------+----------+--------------+-----------------+------------+--------------+------------+------------+------------+-----------------------+------------------+------------------+---------------+-----------+--------------+------------+--------------+-------------------+----------------+---------------------------------+------------+--------------------+-------------------+-------------------+-----------+------------+--------------------+--------------------------+--------------------+------------------+-------------+---------------------+------------+------------+--------------+-------------------+---------------------+---------------------------------+-----------------+------------------------+\n",
      "only showing top 20 rows\n",
      "\n"
     ]
    }
   ],
   "source": [
    "tickets.show()"
   ]
  },
  {
   "cell_type": "code",
   "execution_count": 11,
   "metadata": {
    "id": "VfdYEYsiptJC"
   },
   "outputs": [],
   "source": [
    "# convert Issue Date to proper timestamp\n",
    "tickets = tickets.withColumn('Issue Date', unix_timestamp('Issue Date', 'MM/dd/yyyy').cast('timestamp'))"
   ]
  },
  {
   "cell_type": "markdown",
   "metadata": {
    "id": "3OdBsVZwHcl-"
   },
   "source": [
    "### **Analyze parking tickets for 2017**\n",
    "\n"
   ]
  },
  {
   "cell_type": "code",
   "execution_count": 12,
   "metadata": {
    "id": "vbwG0wMRcL1T"
   },
   "outputs": [],
   "source": [
    "import matplotlib.pyplot as plt\n",
    "import numpy as np\n",
    "\n",
    "from pyspark.sql.functions import *\n",
    "from pyspark.sql.types import *\n",
    "from pyspark.sql import Window\n",
    "\n",
    "% matplotlib inline"
   ]
  },
  {
   "cell_type": "code",
   "execution_count": 13,
   "metadata": {
    "id": "IPLBJdAPp6TR"
   },
   "outputs": [],
   "source": [
    "tickets_2017 = tickets.where(year(tickets['Issue Date']) == 2017).cache()"
   ]
  },
  {
   "cell_type": "code",
   "execution_count": 14,
   "metadata": {
    "colab": {
     "base_uri": "https://localhost:8080/"
    },
    "id": "QLhBEMr_qUL8",
    "outputId": "927892dc-9665-4dee-c362-6778253576a4"
   },
   "outputs": [
    {
     "name": "stdout",
     "output_type": "stream",
     "text": [
      "+--------------+--------+------------------+----------+-------------------+--------------+-----------------+------------+--------------+------------+------------+------------+-----------------------+------------------+------------------+---------------+-----------+--------------+------------+--------------+-------------------+----------------+---------------------------------+------------+--------------------+-------------------+-------------------+-----------+------------+--------------------+--------------------------+--------------------+------------------+-------------+---------------------+------------+------------+--------------+-------------------+---------------------+---------------------------------+-----------------+------------------------+\n",
      "|Summons Number|Plate ID|Registration State|Plate Type|         Issue Date|Violation Code|Vehicle Body Type|Vehicle Make|Issuing Agency|Street Code1|Street Code2|Street Code3|Vehicle Expiration Date|Violation Location|Violation Precinct|Issuer Precinct|Issuer Code|Issuer Command|Issuer Squad|Violation Time|Time First Observed|Violation County|Violation In Front Of Or Opposite|House Number|         Street Name|Intersecting Street|Date First Observed|Law Section|Sub Division|Violation Legal Code|Days Parking In Effect    |From Hours In Effect|To Hours In Effect|Vehicle Color|Unregistered Vehicle?|Vehicle Year|Meter Number|Feet From Curb|Violation Post Code|Violation Description|No Standing or Stopping Violation|Hydrant Violation|Double Parking Violation|\n",
      "+--------------+--------+------------------+----------+-------------------+--------------+-----------------+------------+--------------+------------+------------+------------+-----------------------+------------------+------------------+---------------+-----------+--------------+------------+--------------+-------------------+----------------+---------------------------------+------------+--------------------+-------------------+-------------------+-----------+------------+--------------------+--------------------------+--------------------+------------------+-------------+---------------------+------------+------------+--------------+-------------------+---------------------+---------------------------------+-----------------+------------------------+\n",
      "|    8478629828| 66623ME|                NY|       COM|2017-06-14 00:00:00|            47|             REFG|       MITSU|             T|       10610|       34330|       34350|               20180630|                14|                14|             14|     359594|          T102|           J|         1120A|               null|              NY|                                O|         330|             7th Ave|               null|                  0|        408|          l2|                null|                         Y|               0700A|             0700P|           WH|                 null|        2007|        null|             0|                 04| 47-Double PKG-Mid...|                             null|             null|                    null|\n",
      "|    5096917368| FZD8593|                NY|       PAS|2017-06-13 00:00:00|             7|             SUBN|       ME/BE|             V|           0|           0|           0|                      0|              null|                 0|              0|          0|          null|        null|         0852P|               null|              QN|                             null|        null| NORTHERN BLVD (E/B)|    @ MARATHON PKWY|                  0|       1111|           D|                   T|                      null|                null|              null|           WH|                 null|        2012|        null|             0|               null| FAILURE TO STOP A...|                             null|             null|                    null|\n",
      "|    1407740258| 2513JMG|                NY|       COM|2017-01-11 00:00:00|            78|             DELV|       FRUEH|             P|           0|       40404|       40404|               20161130|               106|               106|            106|     960979|          0106|        0000|         0015A|               null|               Q|                             null|         126|          ST 115 AVE|               null|                  0|        408|          E2|                null|                   BBBBBBB|                 ALL|               ALL|        WHITE|                    0|        2015|           -|             0|               null|                 null|                             null|             null|                    null|\n",
      "|    1413656420|T672371C|                NY|       PAS|2017-02-04 00:00:00|            40|             TAXI|       TOYOT|             P|       59630|       73470|       82230|               20170531|                73|                73|             73|     960758|          0073|        0000|         0525A|               null|               K|                                F|         279|         MCDOUGAL ST|               null|                  0|        408|          F1|                null|                   BBBBBBB|                 ALL|               ALL|          BLK|                    0|        2015|           -|             0|               null|                 null|                             null|             null|                    null|\n",
      "|    8480309064| 51771JW|                NY|       COM|2017-01-26 00:00:00|            64|              VAN|       INTER|             T|       17850|       10210|       10110|               88888888|                17|                17|             17|     363557|          T102|           L|         0256P|               null|              NY|                                F|         204|           E 43rd St|               null|                  0|        408|          C8|                null|                   YYYYYYY|                null|              null|        BROWN|                 null|        2007|        null|             0|                 06| 64-No STD Ex Con/...|                             null|             null|                    null|\n",
      "|    1416638830|  GLP367|                NY|       PAS|2017-04-30 00:00:00|            20|             SUBN|       DODGE|             P|       17650|       10110|       10010|               20180304|                17|                17|             17|     940179|          0017|        0000|         1232A|               null|              NY|                                O|         330|             E 33 ST|               null|                  0|        408|          E2|                null|                   YYYYYYY|               1200A|             1159P|          BLK|                    0|        2009|           -|             0|               null|                 null|                             null|             null|                    null|\n",
      "|    4630524241|  HJBP29|                FL|       PAS|2017-02-03 00:00:00|            36|               4D|         BMW|             V|           0|           0|           0|                      0|              null|                 0|              0|          0|          null|        null|         1034A|               null|              BK|                             null|        null|WB LINDEN BLVD @ SCH|           ENCK AVE|                  0|       1180|           B|                   T|                      null|                null|              null|          SIL|                 null|        2009|        null|             0|               null| PHTO SCHOOL ZN SP...|                             null|             null|                    null|\n",
      "|    8505131836| 87155MA|                NY|       COM|2017-05-27 00:00:00|            38|              VAN|       CHEVR|             T|       27050|       15350|       44890|               20171231|                 1|                 1|              1|     351949|          T105|           C|         1021A|               null|              NY|                                F|          50|           Murray St|               null|                  0|        408|          h1|                null|                         Y|               1000A|             0400P|           WH|                 null|        2016|        null|             0|                023| 38-Failure to Dis...|                             null|             null|                    null|\n",
      "|    8513520615| 77026MG|                NY|       COM|2017-05-31 00:00:00|            14|             TRAC|       VOLVO|             T|       15710|       35670|       35690|               20180430|                24|                24|             24|     352009|          T103|           E|         0721A|               null|              NY|                                F|         730|        Columbus Ave|               null|                  0|        408|           c|                null|                     YYYYY|               0700A|             1000A|        GREEN|                 null|        2016|        null|             0|                  H|       14-No Standing|                             null|             null|                    null|\n",
      "|    8556155431| HFB9919|                NY|       PAS|2017-05-26 00:00:00|            75|             4DSD|       DODGE|             T|       10090|        7890|        7990|               20180412|               114|               114|            114|     359604|          T401|           C|         0940A|               null|               Q|                                F|       30-87|             44th St|               null|                  0|        408|          j5|                null|                   YYYYYYY|                null|              null|           GY|                 null|        2013|        null|             0|               25-A| 75-No Match-Plate...|                             null|             null|                    null|\n",
      "|    8483087236| 76822MH|                NY|       COM|2017-05-19 00:00:00|            10|             DELV|         HIN|             T|       10810|       34490|       34510|               20170531|                14|                14|             14|     356484|          T106|           P|         1223P|               null|              NY|                                F|         535|             8th Ave|               null|                  0|        408|           b|                null|                   YYYYYYY|                null|              null|           WH|                 null|        2012|        null|             0|                 10|       10-No Stopping|                             null|             null|                    null|\n",
      "|    8513914599| 65572JU|                NY|       COM|2017-06-09 00:00:00|            69|              VAN|        FORD|             T|       10110|       18270|       18290|               20171231|                19|                19|             19|     358635|          T103|          BB|         1028A|               null|              NY|                                F|        1237|             2nd Ave|               null|                  0|        408|          h1|                null|                     YYYYY|               1000A|             0200P|           WH|                 null|        2009|        null|             0|                 09| 69-Failure to Dis...|                             null|             null|                    null|\n",
      "|    8357020770|  Y56DLT|                NJ|       PAS|2017-01-20 00:00:00|            21|             4DSD|       CHEVR|             T|       60810|       22280|       22390|               88888888|               113|               113|            113|     361320|          T803|          BB|         0148A|               null|               Q|                                F|      153-90|       Rockaway Blvd|               null|                  0|        408|          d1|                null|                         Y|               1200A|             0300A|        BLACK|                 null|           0|        null|             0|                  F| 21-No Parking (st...|                             null|             null|                    null|\n",
      "|    7047487591| 50741JZ|                NY|       COM|2017-04-13 00:00:00|            38|             UTIL|         GMC|             T|       17140|           0|           0|               88888888|               115|               115|            115|     357759|          T401|           U|         1206P|               null|               Q|                                I|           W|             84th St|40ft N/of Roosevelt|                  0|        408|          h1|                null|                         Y|               0900A|             0700P|        WHITE|                 null|        2008|        null|             0|                 12| 38-Failure to Dis...|                             null|             null|                    null|\n",
      "|    8122530205| 95139JC|                NY|       COM|2017-01-05 00:00:00|            48|             DELV|       INTER|             T|       10110|       17870|       17890|               20170430|                13|                13|             13|     363095|          T506|           G|         0141P|               null|              NY|                                O|         837|             2nd Ave|               null|                  0|        408|          e9|                null|                      null|                null|              null|          RDW|                 null|        1993|        null|             0|               06 6|         48-Bike Lane|                             null|             null|                    null|\n",
      "|    1419707358|  V97GVE|                NJ|       PAS|2017-02-18 00:00:00|            21|             SUBN|       ME/BE|             S|       28830|       67780|       23030|                      0|                60|                60|              0|     589383|          KS15|        0000|         0822A|               null|               K|                                O|        3250|        CONEY IS AVE|               null|                  0|        408|          D1|                null|                   YYYYYYB|               0800A|             0830A|          BLK|                    0|           0|           -|             0|               null|                 null|                             null|             null|                    null|\n",
      "|    8544889610| VVP9002|                VA|       PAS|2017-06-14 00:00:00|            21|             4DSD|        AUDI|             T|        5580|        6930|        7030|               20180488|                72|                72|             72|     355542|          T302|           M|         0820A|               null|               K|                                F|         645|             5th Ave|               null|                  0|        408|          d1|                null|                         Y|               0800A|             0830A|          RED|                 null|           0|        null|             0|                  J| 21-No Parking (st...|                             null|             null|                    null|\n",
      "|    8162054819|  EW866X|                NJ|       PAS|2017-01-29 00:00:00|            68|             4DSD|       NISSA|             T|       21130|       93250|       42730|               88888888|                84|                84|             84|     359609|          T301|           S|         1043A|               null|               K|                                O|         402|           Bridge St|               null|                  0|        408|          a1|                null|                      null|                null|              null|        SILVE|                 null|           0|        null|             0|                 05| 68-Not Pkg. Comp....|                             null|             null|                    null|\n",
      "|    8506053195| 25868MB|                NY|       COM|2017-01-25 00:00:00|            51|              VAN|        FORD|             T|       16135|           0|           0|               20180531|                 1|                 1|              1|     364011|          T105|           D|         0204P|               null|              NY|                                I|           W|       Cortlandt Aly| 50ft N/of White St|                  0|        408|          e3|                null|                   YYYYYYY|                null|              null|           BL|                 null|        2012|        null|             0|                042|          51-Sidewalk|                             null|             null|                    null|\n",
      "|    8534116519| CES6482|                NY|       PAS|2017-06-12 00:00:00|             9|             SUBN|       TOYOT|             T|       69230|       56830|           0|               20181228|                81|                81|             81|     348529|          T301|           Y|         0853A|               null|               K|                                X|        null|            Park Ave|          Locust St|                  0|        408|          e1|                null|                   YYYYYYY|                null|              null|           RD|                 null|        2008|        null|             0|               SPCL|  09-Blocking the Box|                             null|             null|                    null|\n",
      "+--------------+--------+------------------+----------+-------------------+--------------+-----------------+------------+--------------+------------+------------+------------+-----------------------+------------------+------------------+---------------+-----------+--------------+------------+--------------+-------------------+----------------+---------------------------------+------------+--------------------+-------------------+-------------------+-----------+------------+--------------------+--------------------------+--------------------+------------------+-------------+---------------------+------------+------------+--------------+-------------------+---------------------+---------------------------------+-----------------+------------------------+\n",
      "only showing top 20 rows\n",
      "\n"
     ]
    }
   ],
   "source": [
    "tickets_2017.show()"
   ]
  },
  {
   "cell_type": "code",
   "execution_count": 15,
   "metadata": {
    "colab": {
     "base_uri": "https://localhost:8080/"
    },
    "id": "BmuBMUMMkhio",
    "outputId": "61b5301e-30a0-4101-f5e0-a5d2296fd1bf"
   },
   "outputs": [
    {
     "name": "stdout",
     "output_type": "stream",
     "text": [
      "root\n",
      " |-- Summons Number: long (nullable = true)\n",
      " |-- Plate ID: string (nullable = true)\n",
      " |-- Registration State: string (nullable = true)\n",
      " |-- Plate Type: string (nullable = true)\n",
      " |-- Issue Date: timestamp (nullable = true)\n",
      " |-- Violation Code: integer (nullable = true)\n",
      " |-- Vehicle Body Type: string (nullable = true)\n",
      " |-- Vehicle Make: string (nullable = true)\n",
      " |-- Issuing Agency: string (nullable = true)\n",
      " |-- Street Code1: integer (nullable = true)\n",
      " |-- Street Code2: integer (nullable = true)\n",
      " |-- Street Code3: integer (nullable = true)\n",
      " |-- Vehicle Expiration Date: integer (nullable = true)\n",
      " |-- Violation Location: integer (nullable = true)\n",
      " |-- Violation Precinct: integer (nullable = true)\n",
      " |-- Issuer Precinct: integer (nullable = true)\n",
      " |-- Issuer Code: integer (nullable = true)\n",
      " |-- Issuer Command: string (nullable = true)\n",
      " |-- Issuer Squad: string (nullable = true)\n",
      " |-- Violation Time: string (nullable = true)\n",
      " |-- Time First Observed: string (nullable = true)\n",
      " |-- Violation County: string (nullable = true)\n",
      " |-- Violation In Front Of Or Opposite: string (nullable = true)\n",
      " |-- House Number: string (nullable = true)\n",
      " |-- Street Name: string (nullable = true)\n",
      " |-- Intersecting Street: string (nullable = true)\n",
      " |-- Date First Observed: integer (nullable = true)\n",
      " |-- Law Section: integer (nullable = true)\n",
      " |-- Sub Division: string (nullable = true)\n",
      " |-- Violation Legal Code: string (nullable = true)\n",
      " |-- Days Parking In Effect    : string (nullable = true)\n",
      " |-- From Hours In Effect: string (nullable = true)\n",
      " |-- To Hours In Effect: string (nullable = true)\n",
      " |-- Vehicle Color: string (nullable = true)\n",
      " |-- Unregistered Vehicle?: integer (nullable = true)\n",
      " |-- Vehicle Year: integer (nullable = true)\n",
      " |-- Meter Number: string (nullable = true)\n",
      " |-- Feet From Curb: integer (nullable = true)\n",
      " |-- Violation Post Code: string (nullable = true)\n",
      " |-- Violation Description: string (nullable = true)\n",
      " |-- No Standing or Stopping Violation: string (nullable = true)\n",
      " |-- Hydrant Violation: string (nullable = true)\n",
      " |-- Double Parking Violation: string (nullable = true)\n",
      "\n"
     ]
    }
   ],
   "source": [
    "tickets_2017.printSchema()"
   ]
  },
  {
   "cell_type": "markdown",
   "metadata": {
    "id": "ogz5-ZN2dLb7"
   },
   "source": [
    "Find the total number of tickets for the year."
   ]
  },
  {
   "cell_type": "code",
   "execution_count": 16,
   "metadata": {
    "colab": {
     "base_uri": "https://localhost:8080/"
    },
    "id": "MwO2WA4mqiKf",
    "outputId": "e9579954-2277-4b33-e056-45eee35708ee"
   },
   "outputs": [
    {
     "data": {
      "text/plain": [
       "5431918"
      ]
     },
     "execution_count": 16,
     "metadata": {},
     "output_type": "execute_result"
    }
   ],
   "source": [
    "# count number of tickets in 2017\n",
    "tickets_2017.count()"
   ]
  },
  {
   "cell_type": "markdown",
   "metadata": {
    "id": "MVTaFsNbdPUb"
   },
   "source": [
    "Find out the number of unique states from where the cars that got parking tickets came. "
   ]
  },
  {
   "cell_type": "code",
   "execution_count": 17,
   "metadata": {
    "colab": {
     "base_uri": "https://localhost:8080/"
    },
    "id": "QnshHGUeREQl",
    "outputId": "7217e4d2-128b-4b70-9dae-775ac3ae3715"
   },
   "outputs": [
    {
     "data": {
      "text/plain": [
       "65"
      ]
     },
     "execution_count": 17,
     "metadata": {},
     "output_type": "execute_result"
    }
   ],
   "source": [
    "# number of unique states before changing '99' to the maximum entry\n",
    "tickets_2017.select('Registration State').distinct().count()"
   ]
  },
  {
   "cell_type": "code",
   "execution_count": 18,
   "metadata": {
    "id": "pvUMcs8nMXLu"
   },
   "outputs": [],
   "source": [
    "# replace value '99' in registration state column with the state of maximum violations\n",
    "tickets_2017 = tickets_2017.replace('99', 'NY', 'Registration State')\n",
    "\n",
    "# tickets_2017 = tickets_2017.withColumn('Registration State', when(tickets_2017['Registration State'] == '99', 'NY').otherwise())"
   ]
  },
  {
   "cell_type": "code",
   "execution_count": 19,
   "metadata": {
    "colab": {
     "base_uri": "https://localhost:8080/"
    },
    "id": "AOijneVkqzqW",
    "outputId": "a211041b-1eee-4c37-f3eb-9e51f20bc878"
   },
   "outputs": [
    {
     "data": {
      "text/plain": [
       "64"
      ]
     },
     "execution_count": 19,
     "metadata": {},
     "output_type": "execute_result"
    }
   ],
   "source": [
    "# number of distinct states\n",
    "tickets_2017.select('Registration State').distinct().count()"
   ]
  },
  {
   "cell_type": "markdown",
   "metadata": {
    "id": "LfGMrqMYdZQO"
   },
   "source": [
    "Display the top 20 states with the most number of tickets along with their ticket count."
   ]
  },
  {
   "cell_type": "code",
   "execution_count": 20,
   "metadata": {
    "colab": {
     "base_uri": "https://localhost:8080/"
    },
    "id": "xQsGblIjOh_X",
    "outputId": "33046525-9264-429f-94e4-b9da0d3c0216"
   },
   "outputs": [
    {
     "name": "stdout",
     "output_type": "stream",
     "text": [
      "+------------------+-------+\n",
      "|Registration State|  count|\n",
      "+------------------+-------+\n",
      "|                NY|4290006|\n",
      "|                NJ| 475825|\n",
      "|                PA| 140286|\n",
      "|                CT|  70403|\n",
      "|                FL|  69468|\n",
      "|                IN|  45525|\n",
      "|                MA|  38941|\n",
      "|                VA|  34367|\n",
      "|                MD|  30213|\n",
      "|                NC|  27152|\n",
      "|                TX|  18827|\n",
      "|                IL|  18666|\n",
      "|                GA|  17537|\n",
      "|                AZ|  12379|\n",
      "|                OH|  12281|\n",
      "|                CA|  12153|\n",
      "|                ME|  10806|\n",
      "|                SC|  10395|\n",
      "|                MN|  10083|\n",
      "|                OK|   9088|\n",
      "+------------------+-------+\n",
      "\n"
     ]
    }
   ],
   "source": [
    "# Display the top 20 states with the most number of tickets along with their ticket count.\n",
    "top_20_states = tickets_2017.select('Registration State').groupBy('Registration State').count().orderBy(desc('count')).limit(20)\n",
    "top_20_states.show()"
   ]
  },
  {
   "cell_type": "code",
   "execution_count": 21,
   "metadata": {
    "colab": {
     "base_uri": "https://localhost:8080/",
     "height": 294
    },
    "id": "Hm1_4N6gVTDY",
    "outputId": "e3f89224-771f-476c-bea0-20bd000adce8"
   },
   "outputs": [
    {
     "data": {
      "text/plain": [
       "<BarContainer object of 20 artists>"
      ]
     },
     "execution_count": 21,
     "metadata": {},
     "output_type": "execute_result"
    },
    {
     "data": {
      "image/png": "[encoded data removed]",
      "text/plain": [
       "<Figure size 432x288 with 1 Axes>"
      ]
     },
     "metadata": {
      "needs_background": "light"
     },
     "output_type": "display_data"
    }
   ],
   "source": [
    "# visualize data\n",
    "df = top_20_states.toPandas()\n",
    "plt.bar(df['Registration State'], height=df['count'])"
   ]
  },
  {
   "cell_type": "markdown",
   "metadata": {
    "id": "I6rs-n0Ber0n"
   },
   "source": [
    "How often does each violation code occur? Display the frequency of the top five violation codes."
   ]
  },
  {
   "cell_type": "code",
   "execution_count": 22,
   "metadata": {
    "colab": {
     "base_uri": "https://localhost:8080/"
    },
    "id": "L-Z6yOZWTAyP",
    "outputId": "5e8e544b-d72d-4514-e514-c4f890b4c465"
   },
   "outputs": [
    {
     "data": {
      "text/plain": [
       "100"
      ]
     },
     "execution_count": 22,
     "metadata": {},
     "output_type": "execute_result"
    }
   ],
   "source": [
    "# get violation codes\n",
    "violation_codes = [code['Violation Code'] for code in tickets_2017.select('Violation Code').distinct().collect()]\n",
    "\n",
    "# we have 100 different violation codes in 2017\n",
    "len(violation_codes)"
   ]
  },
  {
   "cell_type": "code",
   "execution_count": 23,
   "metadata": {
    "colab": {
     "base_uri": "https://localhost:8080/"
    },
    "id": "9xXcPQyXQCkQ",
    "outputId": "250232d6-3c64-4f2b-e774-c9cdfd0ef861"
   },
   "outputs": [
    {
     "name": "stdout",
     "output_type": "stream",
     "text": [
      "+--------------+------+\n",
      "|Violation Code| count|\n",
      "+--------------+------+\n",
      "|            21|768087|\n",
      "|            36|662765|\n",
      "|            38|542079|\n",
      "|            14|476664|\n",
      "|            20|319646|\n",
      "+--------------+------+\n",
      "\n"
     ]
    }
   ],
   "source": [
    "# top 5 violation codes\n",
    "violations = tickets_2017.select('Violation Code').groupBy('Violation Code').count().orderBy(desc('count')).limit(5)\n",
    "violations.show()"
   ]
  },
  {
   "cell_type": "code",
   "execution_count": 24,
   "metadata": {
    "colab": {
     "base_uri": "https://localhost:8080/",
     "height": 298
    },
    "id": "dZAVdycKS047",
    "outputId": "391cd8f6-384e-48a9-bc76-87cece76a6b2"
   },
   "outputs": [
    {
     "data": {
      "text/plain": [
       "Text(0.5, 1.0, 'Top 5 violation codes')"
      ]
     },
     "execution_count": 24,
     "metadata": {},
     "output_type": "execute_result"
    },
    {
     "data": {
      "image/png": "[encoded data removed]",
      "text/plain": [
       "<Figure size 432x288 with 1 Axes>"
      ]
     },
     "metadata": {
      "needs_background": "light"
     },
     "output_type": "display_data"
    }
   ],
   "source": [
    "df = violations.toPandas()\n",
    "plt.bar([str(code) for code in df['Violation Code']], df['count'])\n",
    "plt.title('Top 5 violation codes')"
   ]
  },
  {
   "cell_type": "markdown",
   "metadata": {
    "id": "aMJc88I9dDg0"
   },
   "source": [
    "How often does each 'vehicle body type' get a parking ticket? How about the 'vehicle make'? Find the top 5 for both."
   ]
  },
  {
   "cell_type": "code",
   "execution_count": 25,
   "metadata": {
    "colab": {
     "base_uri": "https://localhost:8080/"
    },
    "id": "CBV5qkbkc8R2",
    "outputId": "8aaef9bd-6100-4cc1-d2e1-a035895c490e"
   },
   "outputs": [
    {
     "name": "stdout",
     "output_type": "stream",
     "text": [
      "+-----------------+-------+\n",
      "|Vehicle Body Type|  count|\n",
      "+-----------------+-------+\n",
      "|             SUBN|1883954|\n",
      "|             4DSD|1547312|\n",
      "|              VAN| 724029|\n",
      "|             DELV| 358984|\n",
      "|              SDN| 194197|\n",
      "+-----------------+-------+\n",
      "\n"
     ]
    }
   ],
   "source": [
    "# get top 5 vehicle body types\n",
    "vehicle_body_type_by_tickets = tickets_2017.select('Vehicle Body Type').groupBy('Vehicle Body Type').count().orderBy(desc('count')).limit(5)\n",
    "vehicle_body_type_by_tickets.show()"
   ]
  },
  {
   "cell_type": "code",
   "execution_count": 26,
   "metadata": {
    "colab": {
     "base_uri": "https://localhost:8080/",
     "height": 298
    },
    "id": "gI6A5LWofxJ4",
    "outputId": "d5a813ed-b771-482c-9a4f-0b4e2aa80f93"
   },
   "outputs": [
    {
     "data": {
      "text/plain": [
       "Text(0.5, 1.0, 'Top 5 vehicle body types')"
      ]
     },
     "execution_count": 26,
     "metadata": {},
     "output_type": "execute_result"
    },
    {
     "data": {
      "image/png": "[encoded data removed]",
      "text/plain": [
       "<Figure size 432x288 with 1 Axes>"
      ]
     },
     "metadata": {
      "needs_background": "light"
     },
     "output_type": "display_data"
    }
   ],
   "source": [
    "# visualize data\n",
    "df = vehicle_body_type_by_tickets.toPandas()\n",
    "plt.bar([tp for tp in df['Vehicle Body Type']], df['count'])\n",
    "plt.title('Top 5 vehicle body types')"
   ]
  },
  {
   "cell_type": "code",
   "execution_count": 27,
   "metadata": {
    "colab": {
     "base_uri": "https://localhost:8080/"
    },
    "id": "HAr1KheYgHBU",
    "outputId": "8f1a5fdb-f55c-498f-a9a0-d88d3adfbef9"
   },
   "outputs": [
    {
     "name": "stdout",
     "output_type": "stream",
     "text": [
      "+------------+------+\n",
      "|Vehicle Make| count|\n",
      "+------------+------+\n",
      "|        FORD|636844|\n",
      "|       TOYOT|605291|\n",
      "|       HONDA|538884|\n",
      "|       NISSA|462017|\n",
      "|       CHEVR|356032|\n",
      "+------------+------+\n",
      "\n"
     ]
    }
   ],
   "source": [
    "# get top 5 vehicle make\n",
    "vehicle_make_by_tickets = tickets_2017.select('Vehicle Make').groupBy('Vehicle Make').count().orderBy(desc('count')).limit(5)\n",
    "vehicle_make_by_tickets.show()"
   ]
  },
  {
   "cell_type": "code",
   "execution_count": 28,
   "metadata": {
    "colab": {
     "base_uri": "https://localhost:8080/",
     "height": 298
    },
    "id": "a0z7gbEXiwsY",
    "outputId": "430ba8bc-83e6-41aa-af49-6d6069fd780c"
   },
   "outputs": [
    {
     "data": {
      "text/plain": [
       "Text(0.5, 1.0, 'Top 5 vehicle make')"
      ]
     },
     "execution_count": 28,
     "metadata": {},
     "output_type": "execute_result"
    },
    {
     "data": {
      "image/png": "[encoded data removed]",
      "text/plain": [
       "<Figure size 432x288 with 1 Axes>"
      ]
     },
     "metadata": {
      "needs_background": "light"
     },
     "output_type": "display_data"
    }
   ],
   "source": [
    "# visualize data\n",
    "df = vehicle_make_by_tickets.toPandas()\n",
    "plt.bar([v for v in df['Vehicle Make']], df['count'])\n",
    "plt.title('Top 5 vehicle make')"
   ]
  },
  {
   "cell_type": "markdown",
   "metadata": {
    "id": "Y35nmb16japI"
   },
   "source": [
    "### **Find some seasonality in this data**\n",
    "\n",
    "\n",
    "\n",
    "\n",
    "divide the year into 4 seasons, and find the frequencies of tickets for each season and find the three most common violations for each of these seasons"
   ]
  },
  {
   "cell_type": "code",
   "execution_count": 29,
   "metadata": {
    "colab": {
     "base_uri": "https://localhost:8080/"
    },
    "id": "a5qj5QBz0ggy",
    "outputId": "d881572b-a267-4e98-8e00-39e45510ecde"
   },
   "outputs": [
    {
     "name": "stdout",
     "output_type": "stream",
     "text": [
      "+-------------------+--------------+------------------+\n",
      "|         Issue Date|Violation Code|Registration State|\n",
      "+-------------------+--------------+------------------+\n",
      "|2017-06-14 00:00:00|            47|                NY|\n",
      "|2017-06-13 00:00:00|             7|                NY|\n",
      "|2017-01-11 00:00:00|            78|                NY|\n",
      "|2017-02-04 00:00:00|            40|                NY|\n",
      "|2017-01-26 00:00:00|            64|                NY|\n",
      "|2017-04-30 00:00:00|            20|                NY|\n",
      "|2017-02-03 00:00:00|            36|                FL|\n",
      "|2017-05-27 00:00:00|            38|                NY|\n",
      "|2017-05-31 00:00:00|            14|                NY|\n",
      "|2017-05-26 00:00:00|            75|                NY|\n",
      "|2017-05-19 00:00:00|            10|                NY|\n",
      "|2017-06-09 00:00:00|            69|                NY|\n",
      "|2017-01-20 00:00:00|            21|                NJ|\n",
      "|2017-04-13 00:00:00|            38|                NY|\n",
      "|2017-01-05 00:00:00|            48|                NY|\n",
      "|2017-02-18 00:00:00|            21|                NJ|\n",
      "|2017-06-14 00:00:00|            21|                VA|\n",
      "|2017-01-29 00:00:00|            68|                NJ|\n",
      "|2017-01-25 00:00:00|            51|                NY|\n",
      "|2017-06-12 00:00:00|             9|                NY|\n",
      "+-------------------+--------------+------------------+\n",
      "only showing top 20 rows\n",
      "\n"
     ]
    }
   ],
   "source": [
    "tickets_season = tickets_2017.select(['Issue Date', 'Violation Code', 'Registration State']).cache()\n",
    "tickets_season.show()"
   ]
  },
  {
   "cell_type": "code",
   "execution_count": 30,
   "metadata": {
    "id": "xhW50ucHxmuP"
   },
   "outputs": [],
   "source": [
    "@udf(returnType=StringType())\n",
    "def get_season(date):\n",
    "  if date.month in [1, 2, 12]:\n",
    "    return 'Winter'\n",
    "  elif date.month in [3, 4, 5]:\n",
    "    return 'Spring'\n",
    "  elif date.month in [6, 7, 8]:\n",
    "    return 'Summer'\n",
    "  else:\n",
    "    return 'Autumn'"
   ]
  },
  {
   "cell_type": "code",
   "execution_count": 31,
   "metadata": {
    "colab": {
     "base_uri": "https://localhost:8080/"
    },
    "id": "QdJmw2TAyVK9",
    "outputId": "3aaf6b1f-9351-4635-eae7-7e8940d31a13"
   },
   "outputs": [
    {
     "name": "stdout",
     "output_type": "stream",
     "text": [
      "+-------------------+--------------+------------------+-------+\n",
      "|         Issue Date|Violation Code|Registration State|Seasons|\n",
      "+-------------------+--------------+------------------+-------+\n",
      "|2017-06-14 00:00:00|            47|                NY| Summer|\n",
      "|2017-06-13 00:00:00|             7|                NY| Summer|\n",
      "|2017-01-11 00:00:00|            78|                NY| Winter|\n",
      "|2017-02-04 00:00:00|            40|                NY| Winter|\n",
      "|2017-01-26 00:00:00|            64|                NY| Winter|\n",
      "|2017-04-30 00:00:00|            20|                NY| Spring|\n",
      "|2017-02-03 00:00:00|            36|                FL| Winter|\n",
      "|2017-05-27 00:00:00|            38|                NY| Spring|\n",
      "|2017-05-31 00:00:00|            14|                NY| Spring|\n",
      "|2017-05-26 00:00:00|            75|                NY| Spring|\n",
      "|2017-05-19 00:00:00|            10|                NY| Spring|\n",
      "|2017-06-09 00:00:00|            69|                NY| Summer|\n",
      "|2017-01-20 00:00:00|            21|                NJ| Winter|\n",
      "|2017-04-13 00:00:00|            38|                NY| Spring|\n",
      "|2017-01-05 00:00:00|            48|                NY| Winter|\n",
      "|2017-02-18 00:00:00|            21|                NJ| Winter|\n",
      "|2017-06-14 00:00:00|            21|                VA| Summer|\n",
      "|2017-01-29 00:00:00|            68|                NJ| Winter|\n",
      "|2017-01-25 00:00:00|            51|                NY| Winter|\n",
      "|2017-06-12 00:00:00|             9|                NY| Summer|\n",
      "+-------------------+--------------+------------------+-------+\n",
      "only showing top 20 rows\n",
      "\n"
     ]
    }
   ],
   "source": [
    "tickets_season = tickets_season.withColumn('Seasons', get_season('Issue Date')).cache()\n",
    "tickets_season.show()"
   ]
  },
  {
   "cell_type": "code",
   "execution_count": 32,
   "metadata": {
    "colab": {
     "base_uri": "https://localhost:8080/"
    },
    "id": "HjVx1HCpxQps",
    "outputId": "5ff4c693-d858-4009-ed8a-aaf324eb0345"
   },
   "outputs": [
    {
     "name": "stdout",
     "output_type": "stream",
     "text": [
      "+-------+-------+\n",
      "|Seasons|  count|\n",
      "+-------+-------+\n",
      "| Spring|2873383|\n",
      "| Summer| 852866|\n",
      "| Winter|1704690|\n",
      "| Autumn|    979|\n",
      "+-------+-------+\n",
      "\n"
     ]
    }
   ],
   "source": [
    "# count all tickets and group by seasons\n",
    "\n",
    "all_counts = tickets_season.select('Seasons').groupBy('Seasons').count()\n",
    "all_counts.show()"
   ]
  },
  {
   "cell_type": "code",
   "execution_count": 33,
   "metadata": {
    "colab": {
     "base_uri": "https://localhost:8080/",
     "height": 294
    },
    "id": "mrligiIhM0c6",
    "outputId": "2c275061-4e32-4ad4-cfb1-b5899f83bf20"
   },
   "outputs": [
    {
     "data": {
      "text/plain": [
       "<BarContainer object of 4 artists>"
      ]
     },
     "execution_count": 33,
     "metadata": {},
     "output_type": "execute_result"
    },
    {
     "data": {
      "image/png": "[encoded data removed]",
      "text/plain": [
       "<Figure size 432x288 with 1 Axes>"
      ]
     },
     "metadata": {
      "needs_background": "light"
     },
     "output_type": "display_data"
    }
   ],
   "source": [
    "df = all_counts.toPandas()\n",
    "plt.bar([str(season) for season in df['Seasons']], df['count'])"
   ]
  },
  {
   "cell_type": "code",
   "execution_count": 34,
   "metadata": {
    "colab": {
     "base_uri": "https://localhost:8080/"
    },
    "id": "PMIUxSq15C2G",
    "outputId": "b35f7bb3-a0dd-4817-844c-aeb471a6c791"
   },
   "outputs": [
    {
     "name": "stdout",
     "output_type": "stream",
     "text": [
      "+--------------+------+\n",
      "|Violation Code| count|\n",
      "+--------------+------+\n",
      "|            21|127352|\n",
      "|            36| 96663|\n",
      "|            38| 83518|\n",
      "+--------------+------+\n",
      "\n"
     ]
    }
   ],
   "source": [
    "# top 3 most common violations for summer\n",
    "# we get the following violation codes : 21, 36 and 38\n",
    "\n",
    "tickets_season.select(['Violation Code', 'Seasons']).where(tickets_season['Seasons'] == 'Summer').groupBy('Violation Code').count().orderBy(desc('count')).limit(3).show()"
   ]
  },
  {
   "cell_type": "code",
   "execution_count": 35,
   "metadata": {
    "colab": {
     "base_uri": "https://localhost:8080/"
    },
    "id": "KDEf4O2YfPCs",
    "outputId": "7f5bb7d3-cc4b-43bf-ae3f-2ec56027e473"
   },
   "outputs": [
    {
     "name": "stdout",
     "output_type": "stream",
     "text": [
      "+--------------+------+\n",
      "|Violation Code| count|\n",
      "+--------------+------+\n",
      "|            21|238183|\n",
      "|            36|221268|\n",
      "|            38|187386|\n",
      "+--------------+------+\n",
      "\n"
     ]
    }
   ],
   "source": [
    "# top 3 most common violations for winter \n",
    "# we get the following violation codes : 21, 36 and 38\n",
    "\n",
    "tickets_season.select(['Violation Code', 'Seasons']).where(tickets_season['Seasons'] == 'Winter').groupBy('Violation Code').count().orderBy(desc('count')).limit(3).show()"
   ]
  },
  {
   "cell_type": "code",
   "execution_count": 36,
   "metadata": {
    "colab": {
     "base_uri": "https://localhost:8080/"
    },
    "id": "sUC2onPxgxA8",
    "outputId": "d089c2b1-a881-498c-a65d-80438e089174"
   },
   "outputs": [
    {
     "name": "stdout",
     "output_type": "stream",
     "text": [
      "+--------------+------+\n",
      "|Violation Code| count|\n",
      "+--------------+------+\n",
      "|            21|402424|\n",
      "|            36|344834|\n",
      "|            38|271167|\n",
      "+--------------+------+\n",
      "\n"
     ]
    }
   ],
   "source": [
    "# top 3 most common violations for spring\n",
    "# we get the following violation codes : 21, 46, 40\n",
    "\n",
    "tickets_season.select(['Violation Code', 'Seasons']).where(tickets_season['Seasons'] == 'Spring').groupBy('Violation Code').count().orderBy(desc('count')).limit(3).show()"
   ]
  },
  {
   "cell_type": "code",
   "execution_count": 37,
   "metadata": {
    "colab": {
     "base_uri": "https://localhost:8080/"
    },
    "id": "34ouQ6y2hcxX",
    "outputId": "15d14bd0-3b6a-426b-db61-337d8b86a4e6"
   },
   "outputs": [
    {
     "name": "stdout",
     "output_type": "stream",
     "text": [
      "+--------------+-----+\n",
      "|Violation Code|count|\n",
      "+--------------+-----+\n",
      "|            46|  231|\n",
      "|            21|  128|\n",
      "|            40|  116|\n",
      "+--------------+-----+\n",
      "\n"
     ]
    }
   ],
   "source": [
    "# top 3 most common violations for autumn\n",
    "# we get the following violation codes : 46, 40, 21\n",
    "\n",
    "tickets_season.select(['Violation Code', 'Seasons']).where(tickets_season['Seasons'] == 'Autumn').groupBy('Violation Code').count().orderBy(desc('count')).limit(3).show()"
   ]
  },
  {
   "cell_type": "code",
   "execution_count": 38,
   "metadata": {
    "colab": {
     "base_uri": "https://localhost:8080/"
    },
    "id": "d03Lxy0IyffR",
    "outputId": "7c70cac7-59ca-4945-a844-96acbe286bf7"
   },
   "outputs": [
    {
     "name": "stdout",
     "output_type": "stream",
     "text": [
      "+-------+--------------+-------------+\n",
      "|Seasons|Violation Code|Total Tickets|\n",
      "+-------+--------------+-------------+\n",
      "| Autumn|            46|          231|\n",
      "| Autumn|            21|          128|\n",
      "| Autumn|            40|          116|\n",
      "| Spring|            21|       402424|\n",
      "| Spring|            36|       344834|\n",
      "| Spring|            38|       271167|\n",
      "| Summer|            21|       127352|\n",
      "| Summer|            36|        96663|\n",
      "| Summer|            38|        83518|\n",
      "| Winter|            21|       238183|\n",
      "| Winter|            36|       221268|\n",
      "| Winter|            38|       187386|\n",
      "+-------+--------------+-------------+\n",
      "\n"
     ]
    }
   ],
   "source": [
    "tickets_by_rank_seasons = tickets_season.select(['Violation Code', 'Seasons']).groupBy('Seasons', 'Violation Code').count().orderBy(desc('count'))\n",
    "\n",
    "window = Window.partitionBy('Seasons').orderBy(desc('count'))\n",
    "tickets_by_rank_seasons = tickets_by_rank_seasons.withColumn('Rank', rank().over(window)).orderBy(desc('count'))\n",
    "tickets_by_rank_seasons.filter(tickets_by_rank_seasons['Rank'] < 4).orderBy('Seasons', 'Rank') \\\n",
    "  .select(['Seasons', 'Violation Code', 'count']).withColumnRenamed('count', 'Total Tickets').show()"
   ]
  },
  {
   "cell_type": "markdown",
   "metadata": {
    "id": "P6_HdHBc31Mj"
   },
   "source": [
    "Find the total occurrences of the three most common violation codes."
   ]
  },
  {
   "cell_type": "code",
   "execution_count": 39,
   "metadata": {
    "colab": {
     "base_uri": "https://localhost:8080/"
    },
    "id": "kp8B4YR43nUw",
    "outputId": "ff819733-92b6-4ceb-d0d6-b1ccdc1e4237"
   },
   "outputs": [
    {
     "name": "stdout",
     "output_type": "stream",
     "text": [
      "+--------------+------+\n",
      "|Violation Code| count|\n",
      "+--------------+------+\n",
      "|            21|768087|\n",
      "|            36|662765|\n",
      "|            38|542079|\n",
      "+--------------+------+\n",
      "\n"
     ]
    }
   ],
   "source": [
    "# find total occurrences of the three most common violation codes\n",
    "tickets_season.select(['Violation Code', 'Registration State']).groupBy('Violation Code').count().orderBy(desc('count')).limit(3).show()"
   ]
  },
  {
   "cell_type": "markdown",
   "metadata": {
    "id": "AnIwveXsFJMB"
   },
   "source": [
    "The average fine of the top 3 Violation Codes are the following:\n",
    "\n",
    "  - 21 : $65\n",
    "   \n",
    "  - 36 : $50\n",
    "\n",
    "  - 38 : $50\n"
   ]
  },
  {
   "cell_type": "code",
   "execution_count": 40,
   "metadata": {
    "id": "Bc9XJiopK4PH"
   },
   "outputs": [],
   "source": [
    "# assign each violation code with its average fine\n",
    "@udf(returnType=IntegerType())\n",
    "def add_fine_by_code(code):\n",
    "  if code == 21:\n",
    "    return 65\n",
    "  elif code == 36:\n",
    "    return 50\n",
    "  else:\n",
    "    return 50"
   ]
  },
  {
   "cell_type": "code",
   "execution_count": 41,
   "metadata": {
    "colab": {
     "base_uri": "https://localhost:8080/"
    },
    "id": "3OCCUoiERVpI",
    "outputId": "55a526f1-ca5a-450d-acfb-d41cb5adedb2"
   },
   "outputs": [
    {
     "name": "stdout",
     "output_type": "stream",
     "text": [
      "+--------------+-------------+------------+\n",
      "|Violation Code|Total Tickets|Total Amount|\n",
      "+--------------+-------------+------------+\n",
      "|            21|       768087|    49925655|\n",
      "|            36|       662765|    33138250|\n",
      "|            38|       542079|    27103950|\n",
      "+--------------+-------------+------------+\n",
      "\n"
     ]
    }
   ],
   "source": [
    "multiply_by_fine = udf(lambda code, count: count * 65 if code == 21 else (count * 50 if code == 36 else count * 50), IntegerType())\n",
    "\n",
    "tickets_season.filter(tickets_season['Violation Code'].isin([21, 36, 38])) \\\n",
    "  .withColumn('Fine', add_fine_by_code('Violation Code')) \\\n",
    "  .groupBy('Violation Code').count() \\\n",
    "  .withColumn('Total Amount', multiply_by_fine('Violation Code', 'count')) \\\n",
    "  .withColumnRenamed('count', 'Total Tickets') \\\n",
    "  .orderBy(desc('Total Tickets')) \\\n",
    "  .show()"
   ]
  },
  {
   "cell_type": "markdown",
   "metadata": {
    "id": "nnB9r7mi_uqH"
   },
   "source": [
    "Find the top 3 states that have the highest ticket revenue based on the top 3 violation codes alone"
   ]
  },
  {
   "cell_type": "code",
   "execution_count": 42,
   "metadata": {
    "colab": {
     "base_uri": "https://localhost:8080/"
    },
    "id": "HheKLacsXEz8",
    "outputId": "a110c36e-5b41-41c1-f86a-42bd3c3c9ad8"
   },
   "outputs": [
    {
     "name": "stdout",
     "output_type": "stream",
     "text": [
      "+------------------+-------------+\n",
      "|Registration State|Total Revenue|\n",
      "+------------------+-------------+\n",
      "|                NY|     87901590|\n",
      "|                NJ|      7368020|\n",
      "|                PA|      3413995|\n",
      "+------------------+-------------+\n",
      "\n"
     ]
    }
   ],
   "source": [
    "tickets_season.select(['Registration State', 'Violation Code']) \\\n",
    "  .filter(tickets_season['Violation Code'].isin([21, 36, 38])) \\\n",
    "  .withColumn('Fine', add_fine_by_code('Violation Code')) \\\n",
    "  .groupBy('Registration State') \\\n",
    "  .sum('Fine').withColumnRenamed('sum(Fine)', 'Total Revenue') \\\n",
    "  .orderBy(desc('Total Revenue')) \\\n",
    "  .limit(3) \\\n",
    "  .show()"
   ]
  },
  {
   "cell_type": "code",
   "execution_count": 43,
   "metadata": {
    "id": "sSF4EW7YX4nG"
   },
   "outputs": [],
   "source": [
    "# spark.catalog.clearCache()"
   ]
  },
  {
   "cell_type": "markdown",
   "metadata": {
    "id": "cncHxdtdDBVq"
   },
   "source": [
    "### **Conclusion**"
   ]
  },
  {
   "cell_type": "markdown",
   "metadata": {
    "id": "jypJAeMVKrXA"
   },
   "source": [
    "From the results above, I can infer the following assumptions:\n",
    "\n",
    "\n",
    "\n",
    "1. The top 5 states which have the highest violation ticket rate are : \n",
    "New York, New Jersey, Pennsylvania, Connecticut and Florida respectively. New York has 4,290,006 violation tickets recorded.\n",
    "\n",
    "2. Top 5 vehicle brands are FORD, TOYOTA, HONDA, NISSAN and CHEVROLET\n",
    "\n",
    "3. Spring and Winter have significant amount of ciolation ticket rate\n",
    "\n",
    "4. Top 3 violation codes are 21, 36 and 38. There is code 21 in every season.\n",
    "  I guess this violation code is the most code people always violate.\n",
    "  Code 21 means that people park their vehicle at a place which is not allowed to park.\n",
    "\n",
    "5. Code 36 is the second out of the top 3 violation codes. This means that people drive faster than the posted speed limit and use speed near a school zone\n",
    "\n",
    "6. Code 38 is the third one of the top 3 violation codes. It means that many people fail to show their receipt or tag in the windshield\n",
    "\n",
    "7. Most people always violate these 3 codes. This is the reason why each state can gain revenue so much based on these 3 codes.\n",
    "\n",
    "8. New York, New Jersey and Pennsylvania are the top 3 states which can gain so much revenue.\n",
    "\n",
    "9. New York gains the most outstanding amount of revenue out of all states. It may be because New York is the most crowded state and has significant quantity of vehicles.\n",
    "\n"
   ]
  }
 ],
 "metadata": {
  "colab": {
   "collapsed_sections": [],
   "name": "parking_tickets.ipynb",
   "provenance": []
  },
  "interpreter": {
   "hash": "e0481c1c1de3dc1c90564cf9bc1bff12431f5565321bba8d2b2eff57fba3766e"
  },
  "kernelspec": {
   "display_name": "Python 2",
   "language": "python",
   "name": "python3"
  },
  "language_info": {
   "codemirror_mode": {
    "name": "ipython",
    "version": 2
   },
   "file_extension": ".py",
   "mimetype": "text/x-python",
   "name": "python",
   "nbconvert_exporter": "python",
   "pygments_lexer": "ipython2",
   "version": "3.9.6"
  }
 },
 "nbformat": 4,
 "nbformat_minor": 1
}
